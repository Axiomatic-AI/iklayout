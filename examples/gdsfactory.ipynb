{
 "cells": [
  {
   "cell_type": "code",
   "execution_count": 1,
   "metadata": {},
   "outputs": [
    {
     "data": {
      "text/plain": [
       "Port(name: out0, dwidth: 0.5, trans: r0 *1 81.1,0, layer: WG (1/0), port_type: optical)"
      ]
     },
     "execution_count": 1,
     "metadata": {},
     "output_type": "execute_result"
    }
   ],
   "source": [
    "import gdsfactory as gf\n",
    "\n",
    "# Create circuit\n",
    "c = gf.Component()\n",
    "\n",
    "# Add components\n",
    "gc = c << gf.get_component('grating_coupler_elliptical')\n",
    "mzi_device = c << gf.get_component('mzi')\n",
    "\n",
    "# Position and rotate components\n",
    "gc.rotate(180).move((-50, 0))\n",
    "mzi_device.move((0, 0))\n",
    "\n",
    "# Route components\n",
    "route = gf.routing.route_single(\n",
    "    c,\n",
    "    port1=gc.ports[\"o1\"],\n",
    "    port2=mzi_device.ports[\"o1\"],\n",
    "    cross_section=\"strip\",\n",
    "    start_straight_length=0\n",
    ")\n",
    "\n",
    "# Add ports\n",
    "c.add_port(\"in0\", port=gc.ports[\"o1\"])\n",
    "c.add_port(\"out0\", port=mzi_device.ports[\"o2\"])\n"
   ]
  },
  {
   "cell_type": "code",
   "execution_count": 2,
   "metadata": {},
   "outputs": [
    {
     "data": {
      "application/vnd.plotly.v1+json": {
       "config": {
        "plotlyServerURL": "https://plot.ly"
       },
       "data": [
        {
         "hovertemplate": "x: %{x}<br>y: %{y}<br>color: [%{z[0]}, %{z[1]}, %{z[2]}]<extra></extra>",
         "name": "0",
         "source": "data:image/png;base64,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",
         "type": "image",
         "xaxis": "x",
         "yaxis": "y"
        }
       ],
       "layout": {
        "height": 600,
        "margin": {
         "t": 60
        },
        "template": {
         "data": {
          "bar": [
           {
            "error_x": {
             "color": "#2a3f5f"
            },
            "error_y": {
             "color": "#2a3f5f"
            },
            "marker": {
             "line": {
              "color": "#E5ECF6",
              "width": 0.5
             },
             "pattern": {
              "fillmode": "overlay",
              "size": 10,
              "solidity": 0.2
             }
            },
            "type": "bar"
           }
          ],
          "barpolar": [
           {
            "marker": {
             "line": {
              "color": "#E5ECF6",
              "width": 0.5
             },
             "pattern": {
              "fillmode": "overlay",
              "size": 10,
              "solidity": 0.2
             }
            },
            "type": "barpolar"
           }
          ],
          "carpet": [
           {
            "aaxis": {
             "endlinecolor": "#2a3f5f",
             "gridcolor": "white",
             "linecolor": "white",
             "minorgridcolor": "white",
             "startlinecolor": "#2a3f5f"
            },
            "baxis": {
             "endlinecolor": "#2a3f5f",
             "gridcolor": "white",
             "linecolor": "white",
             "minorgridcolor": "white",
             "startlinecolor": "#2a3f5f"
            },
            "type": "carpet"
           }
          ],
          "choropleth": [
           {
            "colorbar": {
             "outlinewidth": 0,
             "ticks": ""
            },
            "type": "choropleth"
           }
          ],
          "contour": [
           {
            "colorbar": {
             "outlinewidth": 0,
             "ticks": ""
            },
            "colorscale": [
             [
              0,
              "#0d0887"
             ],
             [
              0.1111111111111111,
              "#46039f"
             ],
             [
              0.2222222222222222,
              "#7201a8"
             ],
             [
              0.3333333333333333,
              "#9c179e"
             ],
             [
              0.4444444444444444,
              "#bd3786"
             ],
             [
              0.5555555555555556,
              "#d8576b"
             ],
             [
              0.6666666666666666,
              "#ed7953"
             ],
             [
              0.7777777777777778,
              "#fb9f3a"
             ],
             [
              0.8888888888888888,
              "#fdca26"
             ],
             [
              1,
              "#f0f921"
             ]
            ],
            "type": "contour"
           }
          ],
          "contourcarpet": [
           {
            "colorbar": {
             "outlinewidth": 0,
             "ticks": ""
            },
            "type": "contourcarpet"
           }
          ],
          "heatmap": [
           {
            "colorbar": {
             "outlinewidth": 0,
             "ticks": ""
            },
            "colorscale": [
             [
              0,
              "#0d0887"
             ],
             [
              0.1111111111111111,
              "#46039f"
             ],
             [
              0.2222222222222222,
              "#7201a8"
             ],
             [
              0.3333333333333333,
              "#9c179e"
             ],
             [
              0.4444444444444444,
              "#bd3786"
             ],
             [
              0.5555555555555556,
              "#d8576b"
             ],
             [
              0.6666666666666666,
              "#ed7953"
             ],
             [
              0.7777777777777778,
              "#fb9f3a"
             ],
             [
              0.8888888888888888,
              "#fdca26"
             ],
             [
              1,
              "#f0f921"
             ]
            ],
            "type": "heatmap"
           }
          ],
          "heatmapgl": [
           {
            "colorbar": {
             "outlinewidth": 0,
             "ticks": ""
            },
            "colorscale": [
             [
              0,
              "#0d0887"
             ],
             [
              0.1111111111111111,
              "#46039f"
             ],
             [
              0.2222222222222222,
              "#7201a8"
             ],
             [
              0.3333333333333333,
              "#9c179e"
             ],
             [
              0.4444444444444444,
              "#bd3786"
             ],
             [
              0.5555555555555556,
              "#d8576b"
             ],
             [
              0.6666666666666666,
              "#ed7953"
             ],
             [
              0.7777777777777778,
              "#fb9f3a"
             ],
             [
              0.8888888888888888,
              "#fdca26"
             ],
             [
              1,
              "#f0f921"
             ]
            ],
            "type": "heatmapgl"
           }
          ],
          "histogram": [
           {
            "marker": {
             "pattern": {
              "fillmode": "overlay",
              "size": 10,
              "solidity": 0.2
             }
            },
            "type": "histogram"
           }
          ],
          "histogram2d": [
           {
            "colorbar": {
             "outlinewidth": 0,
             "ticks": ""
            },
            "colorscale": [
             [
              0,
              "#0d0887"
             ],
             [
              0.1111111111111111,
              "#46039f"
             ],
             [
              0.2222222222222222,
              "#7201a8"
             ],
             [
              0.3333333333333333,
              "#9c179e"
             ],
             [
              0.4444444444444444,
              "#bd3786"
             ],
             [
              0.5555555555555556,
              "#d8576b"
             ],
             [
              0.6666666666666666,
              "#ed7953"
             ],
             [
              0.7777777777777778,
              "#fb9f3a"
             ],
             [
              0.8888888888888888,
              "#fdca26"
             ],
             [
              1,
              "#f0f921"
             ]
            ],
            "type": "histogram2d"
           }
          ],
          "histogram2dcontour": [
           {
            "colorbar": {
             "outlinewidth": 0,
             "ticks": ""
            },
            "colorscale": [
             [
              0,
              "#0d0887"
             ],
             [
              0.1111111111111111,
              "#46039f"
             ],
             [
              0.2222222222222222,
              "#7201a8"
             ],
             [
              0.3333333333333333,
              "#9c179e"
             ],
             [
              0.4444444444444444,
              "#bd3786"
             ],
             [
              0.5555555555555556,
              "#d8576b"
             ],
             [
              0.6666666666666666,
              "#ed7953"
             ],
             [
              0.7777777777777778,
              "#fb9f3a"
             ],
             [
              0.8888888888888888,
              "#fdca26"
             ],
             [
              1,
              "#f0f921"
             ]
            ],
            "type": "histogram2dcontour"
           }
          ],
          "mesh3d": [
           {
            "colorbar": {
             "outlinewidth": 0,
             "ticks": ""
            },
            "type": "mesh3d"
           }
          ],
          "parcoords": [
           {
            "line": {
             "colorbar": {
              "outlinewidth": 0,
              "ticks": ""
             }
            },
            "type": "parcoords"
           }
          ],
          "pie": [
           {
            "automargin": true,
            "type": "pie"
           }
          ],
          "scatter": [
           {
            "fillpattern": {
             "fillmode": "overlay",
             "size": 10,
             "solidity": 0.2
            },
            "type": "scatter"
           }
          ],
          "scatter3d": [
           {
            "line": {
             "colorbar": {
              "outlinewidth": 0,
              "ticks": ""
             }
            },
            "marker": {
             "colorbar": {
              "outlinewidth": 0,
              "ticks": ""
             }
            },
            "type": "scatter3d"
           }
          ],
          "scattercarpet": [
           {
            "marker": {
             "colorbar": {
              "outlinewidth": 0,
              "ticks": ""
             }
            },
            "type": "scattercarpet"
           }
          ],
          "scattergeo": [
           {
            "marker": {
             "colorbar": {
              "outlinewidth": 0,
              "ticks": ""
             }
            },
            "type": "scattergeo"
           }
          ],
          "scattergl": [
           {
            "marker": {
             "colorbar": {
              "outlinewidth": 0,
              "ticks": ""
             }
            },
            "type": "scattergl"
           }
          ],
          "scattermapbox": [
           {
            "marker": {
             "colorbar": {
              "outlinewidth": 0,
              "ticks": ""
             }
            },
            "type": "scattermapbox"
           }
          ],
          "scatterpolar": [
           {
            "marker": {
             "colorbar": {
              "outlinewidth": 0,
              "ticks": ""
             }
            },
            "type": "scatterpolar"
           }
          ],
          "scatterpolargl": [
           {
            "marker": {
             "colorbar": {
              "outlinewidth": 0,
              "ticks": ""
             }
            },
            "type": "scatterpolargl"
           }
          ],
          "scatterternary": [
           {
            "marker": {
             "colorbar": {
              "outlinewidth": 0,
              "ticks": ""
             }
            },
            "type": "scatterternary"
           }
          ],
          "surface": [
           {
            "colorbar": {
             "outlinewidth": 0,
             "ticks": ""
            },
            "colorscale": [
             [
              0,
              "#0d0887"
             ],
             [
              0.1111111111111111,
              "#46039f"
             ],
             [
              0.2222222222222222,
              "#7201a8"
             ],
             [
              0.3333333333333333,
              "#9c179e"
             ],
             [
              0.4444444444444444,
              "#bd3786"
             ],
             [
              0.5555555555555556,
              "#d8576b"
             ],
             [
              0.6666666666666666,
              "#ed7953"
             ],
             [
              0.7777777777777778,
              "#fb9f3a"
             ],
             [
              0.8888888888888888,
              "#fdca26"
             ],
             [
              1,
              "#f0f921"
             ]
            ],
            "type": "surface"
           }
          ],
          "table": [
           {
            "cells": {
             "fill": {
              "color": "#EBF0F8"
             },
             "line": {
              "color": "white"
             }
            },
            "header": {
             "fill": {
              "color": "#C8D4E3"
             },
             "line": {
              "color": "white"
             }
            },
            "type": "table"
           }
          ]
         },
         "layout": {
          "annotationdefaults": {
           "arrowcolor": "#2a3f5f",
           "arrowhead": 0,
           "arrowwidth": 1
          },
          "autotypenumbers": "strict",
          "coloraxis": {
           "colorbar": {
            "outlinewidth": 0,
            "ticks": ""
           }
          },
          "colorscale": {
           "diverging": [
            [
             0,
             "#8e0152"
            ],
            [
             0.1,
             "#c51b7d"
            ],
            [
             0.2,
             "#de77ae"
            ],
            [
             0.3,
             "#f1b6da"
            ],
            [
             0.4,
             "#fde0ef"
            ],
            [
             0.5,
             "#f7f7f7"
            ],
            [
             0.6,
             "#e6f5d0"
            ],
            [
             0.7,
             "#b8e186"
            ],
            [
             0.8,
             "#7fbc41"
            ],
            [
             0.9,
             "#4d9221"
            ],
            [
             1,
             "#276419"
            ]
           ],
           "sequential": [
            [
             0,
             "#0d0887"
            ],
            [
             0.1111111111111111,
             "#46039f"
            ],
            [
             0.2222222222222222,
             "#7201a8"
            ],
            [
             0.3333333333333333,
             "#9c179e"
            ],
            [
             0.4444444444444444,
             "#bd3786"
            ],
            [
             0.5555555555555556,
             "#d8576b"
            ],
            [
             0.6666666666666666,
             "#ed7953"
            ],
            [
             0.7777777777777778,
             "#fb9f3a"
            ],
            [
             0.8888888888888888,
             "#fdca26"
            ],
            [
             1,
             "#f0f921"
            ]
           ],
           "sequentialminus": [
            [
             0,
             "#0d0887"
            ],
            [
             0.1111111111111111,
             "#46039f"
            ],
            [
             0.2222222222222222,
             "#7201a8"
            ],
            [
             0.3333333333333333,
             "#9c179e"
            ],
            [
             0.4444444444444444,
             "#bd3786"
            ],
            [
             0.5555555555555556,
             "#d8576b"
            ],
            [
             0.6666666666666666,
             "#ed7953"
            ],
            [
             0.7777777777777778,
             "#fb9f3a"
            ],
            [
             0.8888888888888888,
             "#fdca26"
            ],
            [
             1,
             "#f0f921"
            ]
           ]
          },
          "colorway": [
           "#636efa",
           "#EF553B",
           "#00cc96",
           "#ab63fa",
           "#FFA15A",
           "#19d3f3",
           "#FF6692",
           "#B6E880",
           "#FF97FF",
           "#FECB52"
          ],
          "font": {
           "color": "#2a3f5f"
          },
          "geo": {
           "bgcolor": "white",
           "lakecolor": "white",
           "landcolor": "#E5ECF6",
           "showlakes": true,
           "showland": true,
           "subunitcolor": "white"
          },
          "hoverlabel": {
           "align": "left"
          },
          "hovermode": "closest",
          "mapbox": {
           "style": "light"
          },
          "paper_bgcolor": "white",
          "plot_bgcolor": "#E5ECF6",
          "polar": {
           "angularaxis": {
            "gridcolor": "white",
            "linecolor": "white",
            "ticks": ""
           },
           "bgcolor": "#E5ECF6",
           "radialaxis": {
            "gridcolor": "white",
            "linecolor": "white",
            "ticks": ""
           }
          },
          "scene": {
           "xaxis": {
            "backgroundcolor": "#E5ECF6",
            "gridcolor": "white",
            "gridwidth": 2,
            "linecolor": "white",
            "showbackground": true,
            "ticks": "",
            "zerolinecolor": "white"
           },
           "yaxis": {
            "backgroundcolor": "#E5ECF6",
            "gridcolor": "white",
            "gridwidth": 2,
            "linecolor": "white",
            "showbackground": true,
            "ticks": "",
            "zerolinecolor": "white"
           },
           "zaxis": {
            "backgroundcolor": "#E5ECF6",
            "gridcolor": "white",
            "gridwidth": 2,
            "linecolor": "white",
            "showbackground": true,
            "ticks": "",
            "zerolinecolor": "white"
           }
          },
          "shapedefaults": {
           "line": {
            "color": "#2a3f5f"
           }
          },
          "ternary": {
           "aaxis": {
            "gridcolor": "white",
            "linecolor": "white",
            "ticks": ""
           },
           "baxis": {
            "gridcolor": "white",
            "linecolor": "white",
            "ticks": ""
           },
           "bgcolor": "#E5ECF6",
           "caxis": {
            "gridcolor": "white",
            "linecolor": "white",
            "ticks": ""
           }
          },
          "title": {
           "x": 0.05
          },
          "xaxis": {
           "automargin": true,
           "gridcolor": "white",
           "linecolor": "white",
           "ticks": "",
           "title": {
            "standoff": 15
           },
           "zerolinecolor": "white",
           "zerolinewidth": 2
          },
          "yaxis": {
           "automargin": true,
           "gridcolor": "white",
           "linecolor": "white",
           "ticks": "",
           "title": {
            "standoff": 15
           },
           "zerolinecolor": "white",
           "zerolinewidth": 2
          }
         }
        },
        "width": 800,
        "xaxis": {
         "anchor": "y",
         "domain": [
          0,
          1
         ]
        },
        "yaxis": {
         "anchor": "x",
         "domain": [
          0,
          1
         ]
        }
       }
      }
     },
     "metadata": {},
     "output_type": "display_data"
    },
    {
     "data": {
      "text/plain": [
       "<iklayout.iklayout.IKlayout at 0x12da98bf0>"
      ]
     },
     "execution_count": 2,
     "metadata": {},
     "output_type": "execute_result"
    },
    {
     "name": "stdout",
     "output_type": "stream",
     "text": [
      "Warning: ValueError: Invalid property specified for object of type plotly.graph_objs.layout.Image: 'z'\n",
      "\n",
      "Did you mean \"x\"?\n",
      "\n",
      "    Valid properties:\n",
      "        layer\n",
      "            Specifies whether images are drawn below or above\n",
      "            traces. When `xref` and `yref` are both set to `paper`,\n",
      "            image is drawn below the entire plot area.\n",
      "        name\n",
      "            When used in a template, named items are created in the\n",
      "            output figure in addition to any items the figure\n",
      "            already has in this array. You can modify these items\n",
      "            in the output figure by making your own item with\n",
      "            `templateitemname` matching this `name` alongside your\n",
      "            modifications (including `visible: false` or `enabled:\n",
      "            false` to hide it). Has no effect outside of a\n",
      "            template.\n",
      "        opacity\n",
      "            Sets the opacity of the image.\n",
      "        sizex\n",
      "            Sets the image container size horizontally. The image\n",
      "            will be sized based on the `position` value. When\n",
      "            `xref` is set to `paper`, units are sized relative to\n",
      "            the plot width. When `xref` ends with ` domain`, units\n",
      "            are sized relative to the axis width.\n",
      "        sizey\n",
      "            Sets the image container size vertically. The image\n",
      "            will be sized based on the `position` value. When\n",
      "            `yref` is set to `paper`, units are sized relative to\n",
      "            the plot height. When `yref` ends with ` domain`, units\n",
      "            are sized relative to the axis height.\n",
      "        sizing\n",
      "            Specifies which dimension of the image to constrain.\n",
      "        source\n",
      "            Specifies the URL of the image to be used. The URL must\n",
      "            be accessible from the domain where the plot code is\n",
      "            run, and can be either relative or absolute.\n",
      "        templateitemname\n",
      "            Used to refer to a named item in this array in the\n",
      "            template. Named items from the template will be created\n",
      "            even without a matching item in the input figure, but\n",
      "            you can modify one by making an item with\n",
      "            `templateitemname` matching its `name`, alongside your\n",
      "            modifications (including `visible: false` or `enabled:\n",
      "            false` to hide it). If there is no template or no\n",
      "            matching item, this item will be hidden unless you\n",
      "            explicitly show it with `visible: true`.\n",
      "        visible\n",
      "            Determines whether or not this image is visible.\n",
      "        x\n",
      "            Sets the image's x position. When `xref` is set to\n",
      "            `paper`, units are sized relative to the plot height.\n",
      "            See `xref` for more info\n",
      "        xanchor\n",
      "            Sets the anchor for the x position\n",
      "        xref\n",
      "            Sets the images's x coordinate axis. If set to a x axis\n",
      "            id (e.g. \"x\" or \"x2\"), the `x` position refers to a x\n",
      "            coordinate. If set to \"paper\", the `x` position refers\n",
      "            to the distance from the left of the plotting area in\n",
      "            normalized coordinates where 0 (1) corresponds to the\n",
      "            left (right). If set to a x axis ID followed by\n",
      "            \"domain\" (separated by a space), the position behaves\n",
      "            like for \"paper\", but refers to the distance in\n",
      "            fractions of the domain length from the left of the\n",
      "            domain of that axis: e.g., *x2 domain* refers to the\n",
      "            domain of the second x  axis and a x position of 0.5\n",
      "            refers to the point between the left and the right of\n",
      "            the domain of the second x axis.\n",
      "        y\n",
      "            Sets the image's y position. When `yref` is set to\n",
      "            `paper`, units are sized relative to the plot height.\n",
      "            See `yref` for more info\n",
      "        yanchor\n",
      "            Sets the anchor for the y position.\n",
      "        yref\n",
      "            Sets the images's y coordinate axis. If set to a y axis\n",
      "            id (e.g. \"y\" or \"y2\"), the `y` position refers to a y\n",
      "            coordinate. If set to \"paper\", the `y` position refers\n",
      "            to the distance from the bottom of the plotting area in\n",
      "            normalized coordinates where 0 (1) corresponds to the\n",
      "            bottom (top). If set to a y axis ID followed by\n",
      "            \"domain\" (separated by a space), the position behaves\n",
      "            like for \"paper\", but refers to the distance in\n",
      "            fractions of the domain length from the bottom of the\n",
      "            domain of that axis: e.g., *y2 domain* refers to the\n",
      "            domain of the second y  axis and a y position of 0.5\n",
      "            refers to the point between the bottom and the top of\n",
      "            the domain of the second y axis.\n",
      "        \n",
      "Did you mean \"x\"?\n",
      "\n",
      "Bad property path:\n",
      "z\n",
      "^\n",
      "  /Users/jcbwndsr/.venvs/virtualenvwrapper/lib/python3.12/site-packages/plotly/basedatatypes.py:4386\n",
      "  /Users/jcbwndsr/.venvs/virtualenvwrapper/lib/python3.12/site-packages/plotly/graph_objs/layout/_image.py:696\n",
      "  /Users/jcbwndsr/.venvs/virtualenvwrapper/lib/python3.12/site-packages/_plotly_utils/basevalidators.py:2604\n",
      "  /Users/jcbwndsr/.venvs/virtualenvwrapper/lib/python3.12/site-packages/plotly/basedatatypes.py:5345\n",
      "  /Users/jcbwndsr/.venvs/virtualenvwrapper/lib/python3.12/site-packages/plotly/basedatatypes.py:4864\n",
      "  /Users/jcbwndsr/.venvs/virtualenvwrapper/lib/python3.12/site-packages/plotly/basedatatypes.py:5906\n",
      "  /Users/jcbwndsr/.venvs/virtualenvwrapper/lib/python3.12/site-packages/plotly/basedatatypes.py:3931\n",
      "  /Users/jcbwndsr/.venvs/virtualenvwrapper/lib/python3.12/site-packages/plotly/basedatatypes.py:5131\n",
      "  /Users/jcbwndsr/.venvs/virtualenvwrapper/lib/python3.12/site-packages/plotly/basedatatypes.py:1391\n",
      "  /Users/jcbwndsr/.venvs/virtualenvwrapper/lib/python3.12/site-packages/plotly/graph_objs/_figure.py:792\n",
      "  /Users/jcbwndsr/projects/axiomatic/iklayout/iklayout/iklayout.py:43\n"
     ]
    }
   ],
   "source": [
    "from iklayout import show\n",
    "\n",
    "show(c)"
   ]
  }
 ],
 "metadata": {
  "kernelspec": {
   "display_name": "virtualenvwrapper",
   "language": "python",
   "name": "python3"
  },
  "language_info": {
   "codemirror_mode": {
    "name": "ipython",
    "version": 3
   },
   "file_extension": ".py",
   "mimetype": "text/x-python",
   "name": "python",
   "nbconvert_exporter": "python",
   "pygments_lexer": "ipython3",
   "version": "3.12.6"
  }
 },
 "nbformat": 4,
 "nbformat_minor": 2
}
