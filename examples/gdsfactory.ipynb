{
 "cells": [
  {
   "cell_type": "code",
   "execution_count": 1,
   "metadata": {},
   "outputs": [
    {
     "data": {
      "text/plain": [
       "Port(name: out0, dwidth: 0.5, trans: r0 *1 81.1,0, layer: WG (1/0), port_type: optical)"
      ]
     },
     "execution_count": 1,
     "metadata": {},
     "output_type": "execute_result"
    }
   ],
   "source": [
    "import gdsfactory as gf\n",
    "\n",
    "# Create circuit\n",
    "c = gf.Component()\n",
    "\n",
    "# Add components\n",
    "gc = c << gf.get_component('grating_coupler_elliptical')\n",
    "mzi_device = c << gf.get_component('mzi')\n",
    "\n",
    "# Position and rotate components\n",
    "gc.rotate(180).move((-50, 0))\n",
    "mzi_device.move((0, 0))\n",
    "\n",
    "# Route components\n",
    "route = gf.routing.route_single(\n",
    "    c,\n",
    "    port1=gc.ports[\"o1\"],\n",
    "    port2=mzi_device.ports[\"o1\"],\n",
    "    cross_section=\"strip\",\n",
    "    start_straight_length=0\n",
    ")\n",
    "\n",
    "# Add ports\n",
    "c.add_port(\"in0\", port=gc.ports[\"o1\"])\n",
    "c.add_port(\"out0\", port=mzi_device.ports[\"o2\"])\n",
    "\n"
   ]
  },
  {
   "cell_type": "code",
   "execution_count": null,
   "metadata": {},
   "outputs": [
    {
     "data": {
      "application/vnd.jupyter.widget-view+json": {
       "model_id": "91012f3607714fee92a629614abaf628",
       "version_major": 2,
       "version_minor": 0
      },
      "text/plain": [
       "FigureWidget({\n",
       "    'data': [{'type': 'image',\n",
       "              'uid': '37e5e857-d9f1-46d7-994d-acf848940926',\n",
       "              'z': array([[[  0,   0,   0],\n",
       "                           [  0,   0,   0],\n",
       "                           [  0,   0,   0],\n",
       "                           ...,\n",
       "                           [  0,   0,   0],\n",
       "                           [  0,   0,   0],\n",
       "                           [  0,   0,   0]],\n",
       "                   \n",
       "                          [[  0,   0,   0],\n",
       "                           [  0,   0,   0],\n",
       "                           [  0,   0,   0],\n",
       "                           ...,\n",
       "                           [  0,   0,   0],\n",
       "                           [  0,   0,   0],\n",
       "                           [  0,   0,   0]],\n",
       "                   \n",
       "                          [[  0,   0,   0],\n",
       "                           [  0,   0,   0],\n",
       "                           [  0,   0,   0],\n",
       "                           ...,\n",
       "                           [  0,   0,   0],\n",
       "                           [  0,   0,   0],\n",
       "                           [  0,   0,   0]],\n",
       "                   \n",
       "                          ...,\n",
       "                   \n",
       "                          [[  0,   0,   0],\n",
       "                           [  0,   0,   0],\n",
       "                           [  0,   0,   0],\n",
       "                           ...,\n",
       "                           [  0,   0,   0],\n",
       "                           [  0,   0,   0],\n",
       "                           [  0,   0,   0]],\n",
       "                   \n",
       "                          [[  0,   0,   0],\n",
       "                           [  0,   0,   0],\n",
       "                           [  0,   0,   0],\n",
       "                           ...,\n",
       "                           [  0,   0,   0],\n",
       "                           [  0,   0,   0],\n",
       "                           [  0,   0,   0]],\n",
       "                   \n",
       "                          [[  0,   0,   0],\n",
       "                           [  0,   0,   0],\n",
       "                           [128, 128, 128],\n",
       "                           ...,\n",
       "                           [  0,   0,   0],\n",
       "                           [128, 128, 128],\n",
       "                           [  0,   0,   0]]], shape=(600, 800, 3), dtype=uint8)}],\n",
       "    'layout': {'autosize': True,\n",
       "               'height': 600,\n",
       "               'margin': {'b': 0, 'l': 0, 'pad': 0, 'r': 0, 't': 0},\n",
       "               'template': '...',\n",
       "               'width': 800,\n",
       "               'xaxis': {'visible': False},\n",
       "               'yaxis': {'visible': False}}\n",
       "})"
      ]
     },
     "execution_count": 2,
     "metadata": {},
     "output_type": "execute_result"
    },
    {
     "name": "stdout",
     "output_type": "stream",
     "text": [
      "refresh\n",
      "Warning: AttributeError: 'Image' object has no attribute 'items'\n",
      "  /Users/jcbwndsr/.venvs/virtualenvwrapper/lib/python3.12/site-packages/plotly/basedatatypes.py:886\n",
      "  /Users/jcbwndsr/.venvs/virtualenvwrapper/lib/python3.12/site-packages/plotly/graph_objs/_figurewidget.py:697\n",
      "  /Users/jcbwndsr/projects/axiomatic/iklayout/iklayout/iklayout.py:45\n",
      "refresh\n",
      "Warning: AttributeError: 'Image' object has no attribute 'items'\n",
      "  /Users/jcbwndsr/.venvs/virtualenvwrapper/lib/python3.12/site-packages/plotly/basedatatypes.py:886\n",
      "  /Users/jcbwndsr/.venvs/virtualenvwrapper/lib/python3.12/site-packages/plotly/graph_objs/_figurewidget.py:697\n",
      "  /Users/jcbwndsr/projects/axiomatic/iklayout/iklayout/iklayout.py:45\n"
     ]
    }
   ],
   "source": [
    "import iklayout\n",
    "\n",
    "path = c.write_gds().absolute()\n",
    "\n",
    "k = iklayout.show(path)\n",
    "print(k)\n",
    "\n",
    "k"
   ]
  }
 ],
 "metadata": {
  "kernelspec": {
   "display_name": "virtualenvwrapper",
   "language": "python",
   "name": "python3"
  },
  "language_info": {
   "codemirror_mode": {
    "name": "ipython",
    "version": 3
   },
   "file_extension": ".py",
   "mimetype": "text/x-python",
   "name": "python",
   "nbconvert_exporter": "python",
   "pygments_lexer": "ipython3",
   "version": "3.12.6"
  }
 },
 "nbformat": 4,
 "nbformat_minor": 2
}
